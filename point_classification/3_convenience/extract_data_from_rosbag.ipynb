{
 "cells": [
  {
   "cell_type": "code",
   "execution_count": 1,
   "metadata": {},
   "outputs": [],
   "source": [
    "# Simply execute the file and the rosbag given in 'file_name' will be written in a npy file\n",
    "# The target is 'write_to'\n",
    "# You have to stop the main function manually\n",
    "\n",
    "import rospy\n",
    "import sensor_msgs.point_cloud2 as pc2\n",
    "\n",
    "import numpy as np\n",
    "from matplotlib import pyplot as plt\n",
    "from IPython.display import clear_output\n",
    "from subprocess import Popen\n",
    "import sys\n",
    "import subprocess, yaml\n",
    "\n",
    "global frames_1\n",
    "frames_1 = []\n",
    "global frames_2\n",
    "frames_2 = []\n",
    "global number_messages\n",
    "\n",
    "path = \"/media/juli/98F29C83F29C6772/SemesterProject/data/training\"\n",
    "file_names = [\"/1-dust\", \"/2-dust\", \"/3-dust\", \"/4-dust\", \"/5-dust\", \"/6-dust\", \"/7-dust\",\n",
    "              \"/8-dust\", \"/9-smoke\", \"/10-smoke\", \"/11-smoke\", \"/12-smoke\", \"/13-smoke\",\n",
    "              \"/14-smoke\", \"/15-smoke\", \"/16-smoke\", \"/17-smoke\", \"/18-smoke\", \"/19-smoke\",\n",
    "              \"/20-smoke\", \"/21-smoke\", \"/22-smoke\", \"/23-smoke\", \"/24-smoke\", \"/25-smoke\"]\n",
    "bag_number = 24\n",
    "path = \"/home/juli/Downloads\"\n",
    "filenames = [\"/kitti_2011_09_26_drive_0001_synced\"]\n",
    "bag_number = 0"
   ]
  },
  {
   "cell_type": "code",
   "execution_count": 2,
   "metadata": {},
   "outputs": [
    {
     "name": "stdout",
     "output_type": "stream",
     "text": [
      "Writing bag/25-smoke...\n",
      "781 781\n",
      "781\n",
      "(69504, 10)\n"
     ]
    }
   ],
   "source": [
    "# !!! Can only be ran once, then you need to RESTART the kernel\n",
    "\n",
    "def callback_1(data):\n",
    "    global frames_1\n",
    "    frames_1.append(data)\n",
    "    if len(frames_1) >= number_messages and len(frames_2) >= number_messages:\n",
    "        rospy.signal_shutdown(\"Finished reading this bag.\")\n",
    "    \n",
    "def callback_2(data):\n",
    "    global frames_2\n",
    "    frames_2.append(data)\n",
    "    rospy.loginfo(\"Frame: %s of %s for /velodyne_points_dual. I heard %s points in this frame.\", len(frames_2), number_messages, data.width)\n",
    "    clear_output(wait=True)\n",
    "    if len(frames_1) >= number_messages and len(frames_2) >= number_messages:\n",
    "        rospy.signal_shutdown(\"Finished reading this bag.\")\n",
    "    \n",
    "def listener():\n",
    "    # In ROS, nodes are uniquely named. If two nodes with the same\n",
    "    # node are launched, the previous one is kicked off. The\n",
    "    # anonymous=True flag means that rospy will choose a unique\n",
    "    # name for our 'listener' node so that multiple listeners can\n",
    "    # run simultaneously.\n",
    "    rospy.init_node('listener', anonymous=True)\n",
    "\n",
    "    rospy.Subscriber(\"/velodyne_points\", pc2.PointCloud2, callback_1, queue_size = 10)\n",
    "    rospy.Subscriber(\"/velodyne_points_dual\", pc2.PointCloud2, callback_2, queue_size = 10)\n",
    "\n",
    "    # spin() simply keeps python from exiting until this node is stopped\n",
    "    rospy.spin()\n",
    "\n",
    "if __name__ == '__main__':\n",
    "    pcore = Popen(['roscore'])\n",
    "    global frames_1\n",
    "    global frames_2\n",
    "    global number_messages\n",
    "    name = file_names[bag_number]\n",
    "    if True:\n",
    "        frames_1 = []\n",
    "        frames_2 = []\n",
    "        p = Popen(['rosbag','play',path + name + \".bag\"]) # something long running\n",
    "        info_dict = yaml.load(subprocess.Popen(['rosbag', 'info', '--yaml', path + name + \".bag\"], stdout=subprocess.PIPE).communicate()[0])\n",
    "        number_messages = info_dict['topics'][6]['messages']\n",
    "        listener()\n",
    "        print(\"Writing bag\" + name + \"...\")\n",
    "        frames_1 = [np.array([list(point) for point in pc2.read_points(frame, field_names = (\"x\", \"y\", \"z\", \"intensity\", \"ring\"))]) \n",
    "          for frame in frames_1]\n",
    "        frames_2 = [np.array([list(point) for point in pc2.read_points(frame, field_names = (\"x\", \"y\", \"z\", \"intensity\", \"ring\"))]) \n",
    "          for frame in frames_2]\n",
    "        print len(frames_1), len(frames_2)\n",
    "        assert len(frames_1) == len(frames_2)\n",
    "        write_frames = []\n",
    "        for i, write_frame in enumerate(frames_1):\n",
    "            #print(write_frame.shape)\n",
    "            write_frame = np.concatenate((write_frame, frames_2[i]), axis=1)\n",
    "            write_frames.append(write_frame)\n",
    "        print(len(write_frames))\n",
    "        print(write_frames[0].shape)\n",
    "        p.terminate()\n",
    "    pcore.terminate()\n",
    "    np.save(path + name + \".npy\", write_frames)\n",
    "            "
   ]
  },
  {
   "cell_type": "code",
   "execution_count": 3,
   "metadata": {},
   "outputs": [
    {
     "name": "stdout",
     "output_type": "stream",
     "text": [
      "(69504, 5)\n",
      "(69504, 5)\n"
     ]
    }
   ],
   "source": [
    "old_frames = wframes\n",
    "frames = old_frames\n",
    "frames2 = [np.array([list(point) for point in pc2.read_points(frame, field_names = (\"x\", \"y\", \"z\", \"intensity\", \"ring\"))]) \n",
    "          for frame in old_frames]\n",
    "print frames2[0].shape\n",
    "np.save(write_to, frames2)\n",
    "loaded = np.load(write_to)\n",
    "print loaded[0].shape"
   ]
  },
  {
   "cell_type": "code",
   "execution_count": null,
   "metadata": {},
   "outputs": [],
   "source": [
    "# Tryout without explicit listening\n",
    "# Not working so far\n",
    "import rosbag\n",
    "bag = rosbag.Bag('/home/juli/data/QUT_data/rosbags/2.bag')\n",
    "for topic, msg, t in bag.read_messages(topics=['/velodyne_points']):\n",
    "    frames.append(msg)\n",
    "bag.close()"
   ]
  },
  {
   "cell_type": "code",
   "execution_count": 7,
   "metadata": {},
   "outputs": [
    {
     "name": "stdout",
     "output_type": "stream",
     "text": [
      "(69504, 5)\n",
      "(69504, 10)\n"
     ]
    }
   ],
   "source": [
    "a = np.zeros([69504,5])\n",
    "b = np.ones([69504,5])\n",
    "print(a.shape)\n",
    "print(np.concatenate((a,b),axis=1).shape)\n"
   ]
  }
 ],
 "metadata": {
  "kernelspec": {
   "display_name": "Python 2",
   "language": "python",
   "name": "python2"
  },
  "language_info": {
   "codemirror_mode": {
    "name": "ipython",
    "version": 2
   },
   "file_extension": ".py",
   "mimetype": "text/x-python",
   "name": "python",
   "nbconvert_exporter": "python",
   "pygments_lexer": "ipython2",
   "version": "2.7.12"
  }
 },
 "nbformat": 4,
 "nbformat_minor": 2
}
