{
 "cells": [
  {
   "cell_type": "code",
   "execution_count": 11,
   "metadata": {},
   "outputs": [],
   "source": [
    "import numpy as np\n",
    "from sensor_msgs.msg import PointCloud2, PointField\n",
    "import rospy\n",
    "import math\n",
    "import sys\n",
    "import std_msgs.msg\n",
    "import sensor_msgs.point_cloud2 as pc2\n",
    "from IPython.display import clear_output\n",
    "import time\n",
    "import threading\n",
    "\n",
    "take_arg_max = False\n",
    "wait = False\n",
    "\n",
    "load_file = \"/home/juli/Desktop/leo_filtered_pointclouds/1_pred.npy\"\n",
    "\n",
    "frames = np.load(load_file, encoding=\"bytes\")"
   ]
  },
  {
   "cell_type": "code",
   "execution_count": 12,
   "metadata": {},
   "outputs": [
    {
     "name": "stdout",
     "output_type": "stream",
     "text": [
      "30\n",
      "(52678, 13)\n",
      "13\n"
     ]
    }
   ],
   "source": [
    "def signal_user_input():\n",
    "    global wait\n",
    "    while (True):\n",
    "        i = input(\"hit enter to stop things\")   # I have python 2.7, not 3.x\n",
    "        wait = not wait\n",
    "        # thread exits here\n",
    "\n",
    "print(len(frames))\n",
    "print(frames[0].shape)\n",
    "print(len(frames[0][0]))"
   ]
  },
  {
   "cell_type": "code",
   "execution_count": 13,
   "metadata": {},
   "outputs": [
    {
     "name": "stdout",
     "output_type": "stream",
     "text": [
      "[INFO] [1554922091.731559]: Initializing pc2 publisher node...\n",
      "0\n",
      "1\n",
      "2\n",
      "3\n",
      "4\n",
      "5\n",
      "6\n",
      "7\n",
      "8\n",
      "9\n",
      "10\n",
      "11\n",
      "12\n",
      "13\n",
      "14\n",
      "15\n",
      "16\n",
      "17\n",
      "18\n",
      "19\n",
      "20\n",
      "21\n",
      "22\n",
      "23\n",
      "24\n",
      "25\n",
      "26\n",
      "27\n",
      "28\n",
      "29\n"
     ]
    }
   ],
   "source": [
    "# Publish Labeled Pointcloud\n",
    "if __name__ == '__main__':\n",
    "    # Start thread\n",
    "    threading.Thread(target = signal_user_input).start()\n",
    "    # Read in file\n",
    "    cloud_msg = PointCloud2() \n",
    "    cloud_msg.fields = [\n",
    "        PointField('x', 0, PointField.FLOAT32, 1),\n",
    "        PointField('y', 4, PointField.FLOAT32, 1),\n",
    "        PointField('z', 8, PointField.FLOAT32, 1),\n",
    "        PointField('intensity', 12, PointField.FLOAT32, 1),\n",
    "        PointField('r', 16, PointField.FLOAT32, 1),\n",
    "        PointField('l_none', 20, PointField.FLOAT32, 1),\n",
    "        PointField('l_dust', 24, PointField.FLOAT32, 1),\n",
    "        PointField('l_smoke', 28, PointField.FLOAT32, 1)\n",
    "    ]\n",
    "    \n",
    "    # Create publisher\n",
    "    pcl_pub = rospy.Publisher(\"/velodyne_points_dual\", PointCloud2, queue_size=10)\n",
    "    rospy.init_node('pc2_publisher', anonymous=True)\n",
    "    rate = rospy.Rate(10) # 10hz\n",
    "    \n",
    "    rospy.loginfo(\"Initializing pc2 publisher node...\")\n",
    "    # Give time to roscore to make the connections\n",
    "    rospy.sleep(1.)\n",
    "    \n",
    "    # Header\n",
    "    header = std_msgs.msg.Header()\n",
    "    header.stamp = rospy.Time.now()\n",
    "    header.frame_id = 'map'\n",
    "    \n",
    "    # Publish    \n",
    "    # rospy.loginfo(\"happily publishing sample pointcloud.. !\")\n",
    "    time.sleep(5)\n",
    "    for i, frame in enumerate(frames):\n",
    "        while wait:\n",
    "            time.sleep(0.01)\n",
    "        # Add labels\n",
    "        #frame_and_labels = np.zeros((frame.shape[0],frame.shape[1]+1))\n",
    "        #frame_and_labels[:,:-1] = frame\n",
    "        #rospy.loginfo(\"Frame: %s\", i)\n",
    "        #clear_output(wait=True)\n",
    "        print(i), # Because of input\n",
    "        points = np.asarray(frame[:, :5])\n",
    "        labels = np.asarray(frame[:, -3:])\n",
    "        if take_arg_max:\n",
    "            max_indices_true = np.argmax(labels, axis = 1)\n",
    "            print(np.sum(max_indices_true >= 1))\n",
    "            labels[:,:] = 0\n",
    "            for j in range(\n",
    "                len(labels)):\n",
    "                labels[j,max_indices_true[j]] = 1\n",
    "        frame_and_labels = np.concatenate((points, labels), axis = 1)\n",
    "        #frame_and_labels[:,5] = np.round(frame_and_labels[:,5])\n",
    "        # Create pcl from points\n",
    "        scaled_polygon_pcl = pc2.create_cloud(header, cloud_msg.fields, frame_and_labels)\n",
    "        pcl_pub.publish(scaled_polygon_pcl)\n",
    "        rate.sleep()"
   ]
  },
  {
   "cell_type": "code",
   "execution_count": 6,
   "metadata": {},
   "outputs": [
    {
     "name": "stdout",
     "output_type": "stream",
     "text": [
      "[INFO] [1544052374.591793]: Frame: 716\n"
     ]
    }
   ],
   "source": [
    "# Publish Unlabeled Pointcloud\n",
    "if __name__ == '__main__':\n",
    "    # Read in file\n",
    "    cloud_msg = PointCloud2() \n",
    "    cloud_msg.fields = [\n",
    "        PointField('x', 0, PointField.FLOAT32, 1),\n",
    "        PointField('y', 4, PointField.FLOAT32, 1),\n",
    "        PointField('z', 8, PointField.FLOAT32, 1),\n",
    "        PointField('intensity', 12, PointField.FLOAT32, 1),\n",
    "        PointField('r', 16, PointField.FLOAT32, 1)\n",
    "    ]\n",
    "    \n",
    "    # Create publisher\n",
    "    pcl_pub = rospy.Publisher(\"/velodyne_points\", PointCloud2, queue_size=10)\n",
    "    rospy.init_node('pc2_publisher', anonymous=True)\n",
    "    rate = rospy.Rate(10) # 10hz\n",
    "    \n",
    "    rospy.loginfo(\"Initializing pc2 publisher node...\")\n",
    "    # Give time to roscore to make the connections\n",
    "    rospy.sleep(1.)\n",
    "    \n",
    "    # Header\n",
    "    header = std_msgs.msg.Header()\n",
    "    header.stamp = rospy.Time.now()\n",
    "    header.frame_id = 'map'\n",
    "    \n",
    "    # Publish    \n",
    "    rospy.loginfo(\"happily publishing sample pointcloud.. !\")\n",
    "    for i, frame in enumerate(frames):\n",
    "        # Add labels\n",
    "        #frame_and_labels = np.zeros((frame.shape[0],frame.shape[1]+1))\n",
    "        #frame_and_labels[:,:-1] = frame\n",
    "        rospy.loginfo(\"Frame: %s\", i)\n",
    "        clear_output(wait=True)\n",
    "        points = np.asarray(frame[:, :5])\n",
    "        #frame_and_labels[:,5] = np.round(frame_and_labels[:,5])\n",
    "        # Create pcl from points\n",
    "        scaled_polygon_pcl = pc2.create_cloud(header, cloud_msg.fields, points)\n",
    "        pcl_pub.publish(scaled_polygon_pcl)\n",
    "        rate.sleep()"
   ]
  },
  {
   "cell_type": "code",
   "execution_count": 69,
   "metadata": {},
   "outputs": [
    {
     "name": "stdout",
     "output_type": "stream",
     "text": [
      "[1 0]\n"
     ]
    }
   ],
   "source": [
    "print(np.argmax([[1,2],[3,1]],axis = 1))"
   ]
  }
 ],
 "metadata": {
  "kernelspec": {
   "display_name": "Python 2.7",
   "language": "python2.7",
   "name": "python2"
  },
  "language_info": {
   "codemirror_mode": {
    "name": "ipython",
    "version": 3
   },
   "file_extension": ".py",
   "mimetype": "text/x-python",
   "name": "python",
   "nbconvert_exporter": "python",
   "pygments_lexer": "ipython3",
   "version": "3.5.2"
  }
 },
 "nbformat": 4,
 "nbformat_minor": 2
}
