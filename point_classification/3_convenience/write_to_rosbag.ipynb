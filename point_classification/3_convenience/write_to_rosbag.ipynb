{
 "cells": [
  {
   "cell_type": "code",
   "execution_count": 1,
   "metadata": {},
   "outputs": [],
   "source": [
    "# ROSCORE must be running!\n",
    "\n",
    "import numpy as np\n",
    "from sensor_msgs.msg import PointCloud2, PointField\n",
    "import rospy\n",
    "import math\n",
    "import sys\n",
    "from sensor_msgs.msg import PointCloud2\n",
    "import std_msgs.msg\n",
    "import sensor_msgs.point_cloud2 as pc2\n",
    "import rospy\n",
    "from IPython.display import clear_output\n",
    "import rosbag\n",
    "\n",
    "path = \"/media/juli/98F29C83F29C67721/SemesterProject/data/1_training/dual_topic/demo/single_intensity\"\n",
    "file_names = [\"/1-dust_labeled_spaces\", \"/2-dust_labeled_spaces\", \"/3-dust_labeled_spaces\",\n",
    "              \"/4-dust_labeled_spaces\", \"/5-dust_labeled_spaces\", \"/6-dust_labeled_spaces\",\n",
    "              \"/7-dust_labeled_spaces\", \"/8-dust_labeled_spaces\", \"/9-smoke_labeled_spaces\",\n",
    "              \"/10-smoke_labeled_spaces\", \"/11-smoke_labeled_spaces\", \"/12-smoke_labeled_spaces\", \n",
    "              \"/13-smoke_labeled_spaces\", \"/14-smoke_labeled_spaces\", \"/15-smoke_labeled_spaces\", \n",
    "              \"/16-smoke_labeled_spaces\", \"/17-smoke_labeled_spaces\",\"/18-smoke_labeled_spaces\", \n",
    "              \"/19-smoke_labeled_spaces\"]\n",
    "file_names = [\"/1-dust_labeled_spaces_img_predicted_pcl\", \"/20-smoke_labeled_img_predicted_pcl\"]"
   ]
  },
  {
   "cell_type": "code",
   "execution_count": 2,
   "metadata": {},
   "outputs": [
    {
     "name": "stdout",
     "output_type": "stream",
     "text": [
      "[INFO] [1547647907.188477]: Frame: 765\n"
     ]
    }
   ],
   "source": [
    "# Publish Labeled Dual Pointcloud\n",
    "if __name__ == '__main__':\n",
    "    for file_name in file_names:\n",
    "        # Choose correct file\n",
    "        load_file = path + file_name\n",
    "        frames = np.load(load_file + \".npy\")\n",
    "        # Prepare rosbag\n",
    "        outbag = rosbag.Bag(load_file + \".bag\", 'w')\n",
    "        # Prepare topic\n",
    "        cloud_msg = PointCloud2() \n",
    "        cloud_msg.fields = [\n",
    "            PointField('x', 0, PointField.FLOAT32, 1),\n",
    "            PointField('y', 4, PointField.FLOAT32, 1),\n",
    "            PointField('z', 8, PointField.FLOAT32, 1),\n",
    "            PointField('intensity', 12, PointField.FLOAT32, 1),\n",
    "            PointField('r', 16, PointField.FLOAT32, 1),\n",
    "            PointField('l_none', 20, PointField.FLOAT32, 1),\n",
    "            PointField('l_dust', 24, PointField.FLOAT32, 1),\n",
    "            PointField('l_smoke', 28, PointField.FLOAT32, 1)]\n",
    "        # Information to terminal\n",
    "        rospy.loginfo(\"Initializing pc2 rosbag writer...\")\n",
    "        # Give time to roscore to make the connections\n",
    "        rospy.sleep(1.)\n",
    "        # Create writer\n",
    "        rospy.init_node('dual_pc2_writer', anonymous=True)\n",
    "        # Header\n",
    "        header = std_msgs.msg.Header()\n",
    "        header.frame_id = 'map'\n",
    "\n",
    "        # Publish    \n",
    "        rospy.loginfo(\"happily publishing sample pointcloud.. !\")\n",
    "        for i, frame in enumerate(frames):\n",
    "            if i == 0:\n",
    "                header.stamp = rospy.Time.now()\n",
    "            else:\n",
    "                header.stamp = header.stamp + rospy.Duration(0.1)\n",
    "            # Add labels\n",
    "            rospy.loginfo(\"Frame: %s\", i)\n",
    "            clear_output(wait=True)\n",
    "            \n",
    "            points = np.asarray(frame[:, 5:10])\n",
    "            points_dual = np.asarray(frame[:, :5])\n",
    "            labels = np.asarray(frame[:, len(frame[0,:])-3:len(frame[0,:])])\n",
    "            pointcloud = np.concatenate((points, labels), axis = 1)\n",
    "            pointcloud_dual = np.concatenate((points_dual, labels), axis = 1)\n",
    "            # Create pcl from points\n",
    "            scaled_polygon_pcl = pc2.create_cloud(header, cloud_msg.fields, pointcloud)\n",
    "            scaled_polygon_pcl_dual = pc2.create_cloud(header, cloud_msg.fields, pointcloud_dual)\n",
    "            outbag.write(\"/velodyne_points\", scaled_polygon_pcl, header.stamp)\n",
    "            outbag.write(\"/velodyne_points_dual\", scaled_polygon_pcl_dual, header.stamp)\n",
    "            #rate.sleep()\n",
    "        outbag.close()"
   ]
  }
 ],
 "metadata": {
  "kernelspec": {
   "display_name": "Python 2",
   "language": "python",
   "name": "python2"
  },
  "language_info": {
   "codemirror_mode": {
    "name": "ipython",
    "version": 2
   },
   "file_extension": ".py",
   "mimetype": "text/x-python",
   "name": "python",
   "nbconvert_exporter": "python",
   "pygments_lexer": "ipython2",
   "version": "2.7.12"
  }
 },
 "nbformat": 4,
 "nbformat_minor": 2
}
